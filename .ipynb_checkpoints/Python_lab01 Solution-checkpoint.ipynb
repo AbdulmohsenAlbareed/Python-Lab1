{
 "cells": [
  {
   "cell_type": "markdown",
   "id": "2ca7cd3f",
   "metadata": {},
   "source": [
    "### Task 1 : Define a variable that has a value of your favorite season."
   ]
  },
  {
   "cell_type": "code",
   "execution_count": 9,
   "id": "f49abde4",
   "metadata": {},
   "outputs": [
    {
     "name": "stdout",
     "output_type": "stream",
     "text": [
      "Winter\n"
     ]
    }
   ],
   "source": [
    "Fav_season = 'Winter'\n",
    "print(Fav_season)"
   ]
  },
  {
   "cell_type": "markdown",
   "id": "8c38ca95",
   "metadata": {},
   "source": [
    "### Task 2 : Define “x“ variable has an integer value and variable “y” has a float value."
   ]
  },
  {
   "cell_type": "code",
   "execution_count": 8,
   "id": "8c6b3c97",
   "metadata": {},
   "outputs": [
    {
     "name": "stdout",
     "output_type": "stream",
     "text": [
      "the type of x is  <class 'int'>  and the type of y is  <class 'float'>\n"
     ]
    }
   ],
   "source": [
    "x = 1\n",
    "y= 2.1\n",
    "print('the type of x is ',type(x),' and the type of y is ',type(y))"
   ]
  },
  {
   "cell_type": "markdown",
   "id": "f54309ac",
   "metadata": {},
   "source": [
    "### Task 3 : Assign One Value to Multiple Variables."
   ]
  },
  {
   "cell_type": "code",
   "execution_count": 6,
   "id": "2eeaca63",
   "metadata": {},
   "outputs": [
    {
     "name": "stdout",
     "output_type": "stream",
     "text": [
      "x = 1 and y= 1 and z = 1\n"
     ]
    }
   ],
   "source": [
    "x=y=z=1\n",
    "print('x = {} and y= {} and z = {}'.format(x,y,z))"
   ]
  },
  {
   "cell_type": "markdown",
   "id": "de36e973",
   "metadata": {},
   "source": [
    "### Task 4 : Assign Many Values to Multiple Variables."
   ]
  },
  {
   "cell_type": "code",
   "execution_count": 7,
   "id": "18dcfbc1",
   "metadata": {},
   "outputs": [
    {
     "name": "stdout",
     "output_type": "stream",
     "text": [
      "x = 1 and y= 2 and z = 3\n"
     ]
    }
   ],
   "source": [
    "x,y,z=1,2,3\n",
    "print('x = {} and y= {} and z = {}'.format(x,y,z))"
   ]
  }
 ],
 "metadata": {
  "kernelspec": {
   "display_name": "Python 3 (ipykernel)",
   "language": "python",
   "name": "python3"
  },
  "language_info": {
   "codemirror_mode": {
    "name": "ipython",
    "version": 3
   },
   "file_extension": ".py",
   "mimetype": "text/x-python",
   "name": "python",
   "nbconvert_exporter": "python",
   "pygments_lexer": "ipython3",
   "version": "3.10.9"
  }
 },
 "nbformat": 4,
 "nbformat_minor": 5
}
